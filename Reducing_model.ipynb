{
 "cells": [
  {
   "cell_type": "markdown",
   "metadata": {},
   "source": [
    "Importing the librairies\n"
   ]
  },
  {
   "cell_type": "code",
   "execution_count": 63,
   "metadata": {},
   "outputs": [],
   "source": [
    "import numpy as np\n",
    "import pandas as pd\n",
    "\n",
    "import matplotlib.pyplot as plt\n",
    "import seaborn as sns\n",
    "\n",
    "from sklearn.model_selection import train_test_split\n",
    "from sklearn.preprocessing import StandardScaler\n",
    "from sklearn.linear_model import LogisticRegression \n",
    "from sklearn.metrics import confusion_matrix, classification_report,precision_score\n",
    "from sklearn.model_selection import GridSearchCV\n",
    "\n",
    "import tensorflow as tf\n",
    "from tensorflow import keras\n",
    "from tensorflow.keras import layers, models"
   ]
  },
  {
   "cell_type": "code",
   "execution_count": 79,
   "metadata": {},
   "outputs": [],
   "source": [
    "data = pd.read_csv('data\\Tumeurs.csv')"
   ]
  },
  {
   "cell_type": "code",
   "execution_count": 80,
   "metadata": {},
   "outputs": [],
   "source": [
    "y = data['label'].copy()\n",
    "X = data.drop('label', axis=1).copy()"
   ]
  },
  {
   "cell_type": "code",
   "execution_count": 81,
   "metadata": {},
   "outputs": [],
   "source": [
    "X = X/255"
   ]
  },
  {
   "cell_type": "markdown",
   "metadata": {},
   "source": [
    "### Reduce to have the same size in dataset\n",
    "\n",
    "Before we have to compute to have the same size : "
   ]
  },
  {
   "cell_type": "code",
   "execution_count": 82,
   "metadata": {},
   "outputs": [
    {
     "name": "stdout",
     "output_type": "stream",
     "text": [
      "6705\n",
      "101\n"
     ]
    }
   ],
   "source": [
    "data_to_reduce4 = data[data['label']== 4]\n",
    "print(len(data_to_reduce4))\n",
    "data_to_reduce4 = data_to_reduce4.sample(frac=0.015, replace=True, random_state=0)\n",
    "print(len(data_to_reduce4))\n",
    "\n",
    "data_to_reduce6 = data[data['label']== 6]\n",
    "data_to_reduce6 = data_to_reduce6.sample(frac=0.091, replace=True, random_state=0)\n",
    "\n",
    "data_to_reduce2 = data[data['label']== 2]\n",
    "data_to_reduce2 = data_to_reduce2.sample(frac=0.091, replace=True, random_state=0)\n",
    "\n",
    "data_to_reduce1 = data[data['label']== 1]\n",
    "data_to_reduce1 = data_to_reduce1.sample(frac=0.2, replace=True, random_state=0)\n",
    "\n",
    "data_to_reduce0 = data[data['label']== 0]\n",
    "\n",
    "data_to_reduce0 = data_to_reduce0.sample(frac=0.33, replace=True, random_state=0)\n",
    "\n",
    "data_to_reduce5 = data[data['label']== 5]\n",
    "data_to_reduce3 = data[data['label']== 3]\n",
    "\n",
    "\n",
    "data_stabled = pd.concat((data_to_reduce4, data_to_reduce6, data_to_reduce2, data_to_reduce1, data_to_reduce0, data_to_reduce5,data_to_reduce3))"
   ]
  },
  {
   "cell_type": "code",
   "execution_count": 83,
   "metadata": {},
   "outputs": [
    {
     "data": {
      "text/html": [
       "<div>\n",
       "<style scoped>\n",
       "    .dataframe tbody tr th:only-of-type {\n",
       "        vertical-align: middle;\n",
       "    }\n",
       "\n",
       "    .dataframe tbody tr th {\n",
       "        vertical-align: top;\n",
       "    }\n",
       "\n",
       "    .dataframe thead th {\n",
       "        text-align: right;\n",
       "    }\n",
       "</style>\n",
       "<table border=\"1\" class=\"dataframe\">\n",
       "  <thead>\n",
       "    <tr style=\"text-align: right;\">\n",
       "      <th></th>\n",
       "      <th>pixel0000</th>\n",
       "      <th>pixel0001</th>\n",
       "      <th>pixel0002</th>\n",
       "      <th>pixel0003</th>\n",
       "      <th>pixel0004</th>\n",
       "      <th>pixel0005</th>\n",
       "      <th>pixel0006</th>\n",
       "      <th>pixel0007</th>\n",
       "      <th>pixel0008</th>\n",
       "      <th>pixel0009</th>\n",
       "      <th>...</th>\n",
       "      <th>pixel0775</th>\n",
       "      <th>pixel0776</th>\n",
       "      <th>pixel0777</th>\n",
       "      <th>pixel0778</th>\n",
       "      <th>pixel0779</th>\n",
       "      <th>pixel0780</th>\n",
       "      <th>pixel0781</th>\n",
       "      <th>pixel0782</th>\n",
       "      <th>pixel0783</th>\n",
       "      <th>label</th>\n",
       "    </tr>\n",
       "  </thead>\n",
       "  <tbody>\n",
       "    <tr>\n",
       "      <th>5707</th>\n",
       "      <td>169</td>\n",
       "      <td>170</td>\n",
       "      <td>172</td>\n",
       "      <td>174</td>\n",
       "      <td>160</td>\n",
       "      <td>173</td>\n",
       "      <td>177</td>\n",
       "      <td>173</td>\n",
       "      <td>172</td>\n",
       "      <td>169</td>\n",
       "      <td>...</td>\n",
       "      <td>177</td>\n",
       "      <td>176</td>\n",
       "      <td>170</td>\n",
       "      <td>154</td>\n",
       "      <td>148</td>\n",
       "      <td>121</td>\n",
       "      <td>133</td>\n",
       "      <td>165</td>\n",
       "      <td>165</td>\n",
       "      <td>4</td>\n",
       "    </tr>\n",
       "    <tr>\n",
       "      <th>5582</th>\n",
       "      <td>165</td>\n",
       "      <td>170</td>\n",
       "      <td>172</td>\n",
       "      <td>171</td>\n",
       "      <td>170</td>\n",
       "      <td>168</td>\n",
       "      <td>171</td>\n",
       "      <td>177</td>\n",
       "      <td>184</td>\n",
       "      <td>187</td>\n",
       "      <td>...</td>\n",
       "      <td>169</td>\n",
       "      <td>167</td>\n",
       "      <td>169</td>\n",
       "      <td>172</td>\n",
       "      <td>172</td>\n",
       "      <td>177</td>\n",
       "      <td>170</td>\n",
       "      <td>161</td>\n",
       "      <td>154</td>\n",
       "      <td>4</td>\n",
       "    </tr>\n",
       "    <tr>\n",
       "      <th>4628</th>\n",
       "      <td>166</td>\n",
       "      <td>171</td>\n",
       "      <td>176</td>\n",
       "      <td>177</td>\n",
       "      <td>178</td>\n",
       "      <td>164</td>\n",
       "      <td>172</td>\n",
       "      <td>180</td>\n",
       "      <td>181</td>\n",
       "      <td>178</td>\n",
       "      <td>...</td>\n",
       "      <td>169</td>\n",
       "      <td>166</td>\n",
       "      <td>171</td>\n",
       "      <td>172</td>\n",
       "      <td>170</td>\n",
       "      <td>165</td>\n",
       "      <td>156</td>\n",
       "      <td>162</td>\n",
       "      <td>164</td>\n",
       "      <td>4</td>\n",
       "    </tr>\n",
       "    <tr>\n",
       "      <th>6239</th>\n",
       "      <td>175</td>\n",
       "      <td>172</td>\n",
       "      <td>169</td>\n",
       "      <td>179</td>\n",
       "      <td>171</td>\n",
       "      <td>162</td>\n",
       "      <td>165</td>\n",
       "      <td>159</td>\n",
       "      <td>160</td>\n",
       "      <td>165</td>\n",
       "      <td>...</td>\n",
       "      <td>162</td>\n",
       "      <td>158</td>\n",
       "      <td>160</td>\n",
       "      <td>168</td>\n",
       "      <td>172</td>\n",
       "      <td>170</td>\n",
       "      <td>174</td>\n",
       "      <td>172</td>\n",
       "      <td>167</td>\n",
       "      <td>4</td>\n",
       "    </tr>\n",
       "    <tr>\n",
       "      <th>7908</th>\n",
       "      <td>161</td>\n",
       "      <td>159</td>\n",
       "      <td>159</td>\n",
       "      <td>163</td>\n",
       "      <td>164</td>\n",
       "      <td>163</td>\n",
       "      <td>163</td>\n",
       "      <td>163</td>\n",
       "      <td>162</td>\n",
       "      <td>159</td>\n",
       "      <td>...</td>\n",
       "      <td>162</td>\n",
       "      <td>160</td>\n",
       "      <td>160</td>\n",
       "      <td>161</td>\n",
       "      <td>159</td>\n",
       "      <td>160</td>\n",
       "      <td>162</td>\n",
       "      <td>159</td>\n",
       "      <td>156</td>\n",
       "      <td>4</td>\n",
       "    </tr>\n",
       "    <tr>\n",
       "      <th>...</th>\n",
       "      <td>...</td>\n",
       "      <td>...</td>\n",
       "      <td>...</td>\n",
       "      <td>...</td>\n",
       "      <td>...</td>\n",
       "      <td>...</td>\n",
       "      <td>...</td>\n",
       "      <td>...</td>\n",
       "      <td>...</td>\n",
       "      <td>...</td>\n",
       "      <td>...</td>\n",
       "      <td>...</td>\n",
       "      <td>...</td>\n",
       "      <td>...</td>\n",
       "      <td>...</td>\n",
       "      <td>...</td>\n",
       "      <td>...</td>\n",
       "      <td>...</td>\n",
       "      <td>...</td>\n",
       "      <td>...</td>\n",
       "      <td>...</td>\n",
       "    </tr>\n",
       "    <tr>\n",
       "      <th>1205</th>\n",
       "      <td>207</td>\n",
       "      <td>209</td>\n",
       "      <td>212</td>\n",
       "      <td>208</td>\n",
       "      <td>204</td>\n",
       "      <td>203</td>\n",
       "      <td>209</td>\n",
       "      <td>217</td>\n",
       "      <td>218</td>\n",
       "      <td>218</td>\n",
       "      <td>...</td>\n",
       "      <td>213</td>\n",
       "      <td>210</td>\n",
       "      <td>218</td>\n",
       "      <td>219</td>\n",
       "      <td>215</td>\n",
       "      <td>212</td>\n",
       "      <td>205</td>\n",
       "      <td>199</td>\n",
       "      <td>199</td>\n",
       "      <td>3</td>\n",
       "    </tr>\n",
       "    <tr>\n",
       "      <th>1206</th>\n",
       "      <td>173</td>\n",
       "      <td>187</td>\n",
       "      <td>193</td>\n",
       "      <td>191</td>\n",
       "      <td>197</td>\n",
       "      <td>195</td>\n",
       "      <td>198</td>\n",
       "      <td>203</td>\n",
       "      <td>201</td>\n",
       "      <td>199</td>\n",
       "      <td>...</td>\n",
       "      <td>194</td>\n",
       "      <td>194</td>\n",
       "      <td>199</td>\n",
       "      <td>201</td>\n",
       "      <td>207</td>\n",
       "      <td>202</td>\n",
       "      <td>190</td>\n",
       "      <td>181</td>\n",
       "      <td>182</td>\n",
       "      <td>3</td>\n",
       "    </tr>\n",
       "    <tr>\n",
       "      <th>1207</th>\n",
       "      <td>180</td>\n",
       "      <td>188</td>\n",
       "      <td>179</td>\n",
       "      <td>172</td>\n",
       "      <td>175</td>\n",
       "      <td>181</td>\n",
       "      <td>178</td>\n",
       "      <td>174</td>\n",
       "      <td>172</td>\n",
       "      <td>174</td>\n",
       "      <td>...</td>\n",
       "      <td>137</td>\n",
       "      <td>143</td>\n",
       "      <td>146</td>\n",
       "      <td>147</td>\n",
       "      <td>150</td>\n",
       "      <td>152</td>\n",
       "      <td>149</td>\n",
       "      <td>148</td>\n",
       "      <td>142</td>\n",
       "      <td>3</td>\n",
       "    </tr>\n",
       "    <tr>\n",
       "      <th>1208</th>\n",
       "      <td>160</td>\n",
       "      <td>161</td>\n",
       "      <td>162</td>\n",
       "      <td>165</td>\n",
       "      <td>164</td>\n",
       "      <td>156</td>\n",
       "      <td>155</td>\n",
       "      <td>160</td>\n",
       "      <td>168</td>\n",
       "      <td>166</td>\n",
       "      <td>...</td>\n",
       "      <td>162</td>\n",
       "      <td>158</td>\n",
       "      <td>157</td>\n",
       "      <td>157</td>\n",
       "      <td>157</td>\n",
       "      <td>153</td>\n",
       "      <td>153</td>\n",
       "      <td>154</td>\n",
       "      <td>151</td>\n",
       "      <td>3</td>\n",
       "    </tr>\n",
       "    <tr>\n",
       "      <th>1209</th>\n",
       "      <td>195</td>\n",
       "      <td>193</td>\n",
       "      <td>191</td>\n",
       "      <td>185</td>\n",
       "      <td>184</td>\n",
       "      <td>185</td>\n",
       "      <td>183</td>\n",
       "      <td>184</td>\n",
       "      <td>187</td>\n",
       "      <td>182</td>\n",
       "      <td>...</td>\n",
       "      <td>160</td>\n",
       "      <td>161</td>\n",
       "      <td>169</td>\n",
       "      <td>176</td>\n",
       "      <td>179</td>\n",
       "      <td>183</td>\n",
       "      <td>185</td>\n",
       "      <td>182</td>\n",
       "      <td>181</td>\n",
       "      <td>3</td>\n",
       "    </tr>\n",
       "  </tbody>\n",
       "</table>\n",
       "<p>770 rows × 785 columns</p>\n",
       "</div>"
      ],
      "text/plain": [
       "      pixel0000  pixel0001  pixel0002  pixel0003  pixel0004  pixel0005  \\\n",
       "5707        169        170        172        174        160        173   \n",
       "5582        165        170        172        171        170        168   \n",
       "4628        166        171        176        177        178        164   \n",
       "6239        175        172        169        179        171        162   \n",
       "7908        161        159        159        163        164        163   \n",
       "...         ...        ...        ...        ...        ...        ...   \n",
       "1205        207        209        212        208        204        203   \n",
       "1206        173        187        193        191        197        195   \n",
       "1207        180        188        179        172        175        181   \n",
       "1208        160        161        162        165        164        156   \n",
       "1209        195        193        191        185        184        185   \n",
       "\n",
       "      pixel0006  pixel0007  pixel0008  pixel0009  ...  pixel0775  pixel0776  \\\n",
       "5707        177        173        172        169  ...        177        176   \n",
       "5582        171        177        184        187  ...        169        167   \n",
       "4628        172        180        181        178  ...        169        166   \n",
       "6239        165        159        160        165  ...        162        158   \n",
       "7908        163        163        162        159  ...        162        160   \n",
       "...         ...        ...        ...        ...  ...        ...        ...   \n",
       "1205        209        217        218        218  ...        213        210   \n",
       "1206        198        203        201        199  ...        194        194   \n",
       "1207        178        174        172        174  ...        137        143   \n",
       "1208        155        160        168        166  ...        162        158   \n",
       "1209        183        184        187        182  ...        160        161   \n",
       "\n",
       "      pixel0777  pixel0778  pixel0779  pixel0780  pixel0781  pixel0782  \\\n",
       "5707        170        154        148        121        133        165   \n",
       "5582        169        172        172        177        170        161   \n",
       "4628        171        172        170        165        156        162   \n",
       "6239        160        168        172        170        174        172   \n",
       "7908        160        161        159        160        162        159   \n",
       "...         ...        ...        ...        ...        ...        ...   \n",
       "1205        218        219        215        212        205        199   \n",
       "1206        199        201        207        202        190        181   \n",
       "1207        146        147        150        152        149        148   \n",
       "1208        157        157        157        153        153        154   \n",
       "1209        169        176        179        183        185        182   \n",
       "\n",
       "      pixel0783  label  \n",
       "5707        165      4  \n",
       "5582        154      4  \n",
       "4628        164      4  \n",
       "6239        167      4  \n",
       "7908        156      4  \n",
       "...         ...    ...  \n",
       "1205        199      3  \n",
       "1206        182      3  \n",
       "1207        142      3  \n",
       "1208        151      3  \n",
       "1209        181      3  \n",
       "\n",
       "[770 rows x 785 columns]"
      ]
     },
     "execution_count": 83,
     "metadata": {},
     "output_type": "execute_result"
    }
   ],
   "source": [
    "data_stabled\n"
   ]
  },
  {
   "cell_type": "markdown",
   "metadata": {},
   "source": [
    "The data is stable. Let's create our NN "
   ]
  },
  {
   "cell_type": "code",
   "execution_count": 84,
   "metadata": {},
   "outputs": [],
   "source": [
    "y = data_stabled['label'].copy()\n",
    "X = data_stabled.drop('label', axis=1).copy()\n",
    "\n",
    "X = np.array(X)\n",
    "X = X.reshape(770 ,28,28,1)\n",
    "\n",
    "#X = X.reshape(4408,28,28,1)\n",
    "\n",
    "#Scaled\n",
    "X_train, X_test, y_train, y_test = train_test_split(X, y, test_size=0.3, random_state=1)\n",
    "\n",
    "X_train, X_val, y_train, y_val = train_test_split(X_test, y_test, test_size=0.1, random_state=1)\n"
   ]
  },
  {
   "cell_type": "code",
   "execution_count": 85,
   "metadata": {},
   "outputs": [
    {
     "data": {
      "text/plain": [
       "5    142\n",
       "3    115\n",
       "0    108\n",
       "1    103\n",
       "4    101\n",
       "6    101\n",
       "2    100\n",
       "Name: label, dtype: int64"
      ]
     },
     "execution_count": 85,
     "metadata": {},
     "output_type": "execute_result"
    }
   ],
   "source": [
    "y.value_counts()"
   ]
  },
  {
   "cell_type": "markdown",
   "metadata": {},
   "source": [
    "Callback "
   ]
  },
  {
   "cell_type": "code",
   "execution_count": 86,
   "metadata": {},
   "outputs": [],
   "source": [
    "early = tf.keras.callbacks.EarlyStopping(monitor='loss', patience=3)"
   ]
  },
  {
   "cell_type": "code",
   "execution_count": 87,
   "metadata": {},
   "outputs": [],
   "source": [
    "model =tf.keras.models.Sequential([\n",
    "    tf.keras.layers.Conv2D(64,(3,3),activation = \"relu\" , input_shape = (28, 28, 1)), \n",
    "    tf.keras.layers.MaxPooling2D(2,2),\n",
    "    tf.keras.layers.BatchNormalization(),\n",
    "    \n",
    "    tf.keras.layers.Conv2D(64,(3,3),activation = \"relu\") , \n",
    "    tf.keras.layers.MaxPooling2D(2,2),\n",
    "    \n",
    "    tf.keras.layers.Conv2D(128,(3,3),activation = \"relu\") ,    \n",
    "    tf.keras.layers.MaxPooling2D(2,2),\n",
    "    \n",
    "    tf.keras.layers.Dropout(rate = 0.15), #Important parameter\n",
    "\n",
    "    tf.keras.layers.Dense(units = 256, activation = 'relu'), \n",
    "\n",
    "    tf.keras.layers.Dense(units = 64, activation = 'relu'), \n",
    "    tf.keras.layers.BatchNormalization(),\n",
    "    \n",
    "    tf.keras.layers.Flatten(), #Convert 3d in 2d features vectors \n",
    " \n",
    "    tf.keras.layers.Dropout(0.5), \n",
    "    tf.keras.layers.Dense(7,activation = \"softmax\")])"
   ]
  },
  {
   "cell_type": "code",
   "execution_count": 88,
   "metadata": {},
   "outputs": [
    {
     "name": "stdout",
     "output_type": "stream",
     "text": [
      "Epoch 1/100\n"
     ]
    },
    {
     "name": "stderr",
     "output_type": "stream",
     "text": [
      "c:\\Users\\mathi\\anaconda3\\lib\\site-packages\\tensorflow\\python\\keras\\backend.py:4929: UserWarning: \"`sparse_categorical_crossentropy` received `from_logits=True`, but the `output` argument was produced by a sigmoid or softmax activation and thus does not represent logits. Was this intended?\"\n",
      "  warnings.warn(\n"
     ]
    },
    {
     "name": "stdout",
     "output_type": "stream",
     "text": [
      "7/7 [==============================] - 1s 39ms/step - loss: 2.5912 - accuracy: 0.1691 - val_loss: 19.0343 - val_accuracy: 0.1667\n",
      "Epoch 2/100\n",
      "7/7 [==============================] - 0s 18ms/step - loss: 2.1904 - accuracy: 0.1981 - val_loss: 5.4498 - val_accuracy: 0.2083\n",
      "Epoch 3/100\n",
      "7/7 [==============================] - 0s 18ms/step - loss: 2.0994 - accuracy: 0.2512 - val_loss: 8.1375 - val_accuracy: 0.2917\n",
      "Epoch 4/100\n",
      "7/7 [==============================] - 0s 20ms/step - loss: 2.0069 - accuracy: 0.2609 - val_loss: 7.8685 - val_accuracy: 0.2917\n",
      "Epoch 5/100\n",
      "7/7 [==============================] - 0s 19ms/step - loss: 1.9054 - accuracy: 0.2899 - val_loss: 6.7984 - val_accuracy: 0.2917\n",
      "Epoch 6/100\n",
      "7/7 [==============================] - 0s 18ms/step - loss: 1.9283 - accuracy: 0.1981 - val_loss: 6.1103 - val_accuracy: 0.2917\n",
      "Epoch 7/100\n",
      "7/7 [==============================] - 0s 18ms/step - loss: 1.9556 - accuracy: 0.2754 - val_loss: 5.9474 - val_accuracy: 0.2500\n",
      "Epoch 8/100\n",
      "7/7 [==============================] - 0s 19ms/step - loss: 1.7873 - accuracy: 0.3285 - val_loss: 5.4893 - val_accuracy: 0.2500\n",
      "Epoch 9/100\n",
      "7/7 [==============================] - 0s 19ms/step - loss: 1.7920 - accuracy: 0.3623 - val_loss: 4.9665 - val_accuracy: 0.2500\n",
      "Epoch 10/100\n",
      "7/7 [==============================] - 0s 24ms/step - loss: 1.8127 - accuracy: 0.3140 - val_loss: 3.7468 - val_accuracy: 0.2500\n",
      "Epoch 11/100\n",
      "7/7 [==============================] - 0s 20ms/step - loss: 1.7246 - accuracy: 0.3671 - val_loss: 3.4244 - val_accuracy: 0.2500\n",
      "Epoch 12/100\n",
      "7/7 [==============================] - 0s 19ms/step - loss: 1.7243 - accuracy: 0.3430 - val_loss: 2.9483 - val_accuracy: 0.2500\n",
      "Epoch 13/100\n",
      "7/7 [==============================] - 0s 20ms/step - loss: 1.6727 - accuracy: 0.3671 - val_loss: 2.4072 - val_accuracy: 0.2083\n",
      "Epoch 14/100\n",
      "7/7 [==============================] - 0s 19ms/step - loss: 1.6585 - accuracy: 0.3913 - val_loss: 2.4905 - val_accuracy: 0.2917\n",
      "Epoch 15/100\n",
      "7/7 [==============================] - 0s 18ms/step - loss: 1.6908 - accuracy: 0.3430 - val_loss: 2.4333 - val_accuracy: 0.2500\n",
      "Epoch 16/100\n",
      "7/7 [==============================] - 0s 18ms/step - loss: 1.6410 - accuracy: 0.3333 - val_loss: 2.2546 - val_accuracy: 0.2917\n",
      "Epoch 17/100\n",
      "7/7 [==============================] - 0s 18ms/step - loss: 1.5561 - accuracy: 0.3961 - val_loss: 1.9506 - val_accuracy: 0.3333\n",
      "Epoch 18/100\n",
      "7/7 [==============================] - 0s 18ms/step - loss: 1.5294 - accuracy: 0.3720 - val_loss: 1.9706 - val_accuracy: 0.3750\n",
      "Epoch 19/100\n",
      "7/7 [==============================] - 0s 18ms/step - loss: 1.5614 - accuracy: 0.4396 - val_loss: 1.8129 - val_accuracy: 0.4583\n",
      "Epoch 20/100\n",
      "7/7 [==============================] - 0s 18ms/step - loss: 1.3769 - accuracy: 0.4734 - val_loss: 1.8667 - val_accuracy: 0.4167\n",
      "Epoch 21/100\n",
      "7/7 [==============================] - 0s 18ms/step - loss: 1.3983 - accuracy: 0.5072 - val_loss: 1.9889 - val_accuracy: 0.3750\n",
      "Epoch 22/100\n",
      "7/7 [==============================] - 0s 23ms/step - loss: 1.3684 - accuracy: 0.4831 - val_loss: 1.8371 - val_accuracy: 0.4167\n",
      "Epoch 23/100\n",
      "7/7 [==============================] - 0s 19ms/step - loss: 1.4347 - accuracy: 0.4686 - val_loss: 2.2957 - val_accuracy: 0.2917\n",
      "Epoch 24/100\n",
      "7/7 [==============================] - 0s 20ms/step - loss: 1.4516 - accuracy: 0.4251 - val_loss: 2.2111 - val_accuracy: 0.3333\n",
      "Epoch 25/100\n",
      "7/7 [==============================] - 0s 17ms/step - loss: 1.3807 - accuracy: 0.4734 - val_loss: 2.0438 - val_accuracy: 0.2917\n"
     ]
    }
   ],
   "source": [
    "#model.summary()\n",
    "model.compile(optimizer='adam',\n",
    "              loss=tf.keras.losses.SparseCategoricalCrossentropy(from_logits=True),\n",
    "              metrics=['accuracy'])\n",
    "\n",
    "history = model.fit(X_train, y_train, epochs=100,callbacks = [early], validation_data=(X_val, y_val))\n",
    "#history = model.fit(X_train, y_train, epochs=100,callbacks = [early])"
   ]
  },
  {
   "cell_type": "code",
   "execution_count": 89,
   "metadata": {},
   "outputs": [
    {
     "name": "stdout",
     "output_type": "stream",
     "text": [
      "Model: \"sequential_5\"\n",
      "_________________________________________________________________\n",
      "Layer (type)                 Output Shape              Param #   \n",
      "=================================================================\n",
      "conv2d_15 (Conv2D)           (None, 26, 26, 64)        640       \n",
      "_________________________________________________________________\n",
      "max_pooling2d_15 (MaxPooling (None, 13, 13, 64)        0         \n",
      "_________________________________________________________________\n",
      "batch_normalization_10 (Batc (None, 13, 13, 64)        256       \n",
      "_________________________________________________________________\n",
      "conv2d_16 (Conv2D)           (None, 11, 11, 64)        36928     \n",
      "_________________________________________________________________\n",
      "max_pooling2d_16 (MaxPooling (None, 5, 5, 64)          0         \n",
      "_________________________________________________________________\n",
      "conv2d_17 (Conv2D)           (None, 3, 3, 128)         73856     \n",
      "_________________________________________________________________\n",
      "max_pooling2d_17 (MaxPooling (None, 1, 1, 128)         0         \n",
      "_________________________________________________________________\n",
      "dropout_10 (Dropout)         (None, 1, 1, 128)         0         \n",
      "_________________________________________________________________\n",
      "dense_15 (Dense)             (None, 1, 1, 256)         33024     \n",
      "_________________________________________________________________\n",
      "dense_16 (Dense)             (None, 1, 1, 64)          16448     \n",
      "_________________________________________________________________\n",
      "batch_normalization_11 (Batc (None, 1, 1, 64)          256       \n",
      "_________________________________________________________________\n",
      "flatten_5 (Flatten)          (None, 64)                0         \n",
      "_________________________________________________________________\n",
      "dropout_11 (Dropout)         (None, 64)                0         \n",
      "_________________________________________________________________\n",
      "dense_17 (Dense)             (None, 7)                 455       \n",
      "=================================================================\n",
      "Total params: 161,863\n",
      "Trainable params: 161,607\n",
      "Non-trainable params: 256\n",
      "_________________________________________________________________\n",
      "None\n",
      "('You must install pydot (`pip install pydot`) and install graphviz (see instructions at https://graphviz.gitlab.io/download/) ', 'for plot_model/model_to_dot to work.')\n"
     ]
    }
   ],
   "source": [
    "\n",
    "print(model.summary())\n",
    "tf.keras.utils.plot_model(model)\n"
   ]
  },
  {
   "cell_type": "code",
   "execution_count": 90,
   "metadata": {},
   "outputs": [
    {
     "name": "stdout",
     "output_type": "stream",
     "text": [
      "8/8 [==============================] - 0s 5ms/step - loss: 1.6680 - accuracy: 0.3636\n",
      "Test Accuracy: 36.364%\n"
     ]
    }
   ],
   "source": [
    "model_acc = model.evaluate(X_test, y_test)[1]\n",
    "\n",
    "print(\"Test Accuracy: {:.3f}%\".format(model_acc * 100))"
   ]
  },
  {
   "cell_type": "code",
   "execution_count": 91,
   "metadata": {},
   "outputs": [
    {
     "data": {
      "image/png": "[encoded data removed]",
      "text/plain": [
       "<Figure size 640x480 with 1 Axes>"
      ]
     },
     "metadata": {},
     "output_type": "display_data"
    },
    {
     "data": {
      "image/png": "[encoded data removed]",
      "text/plain": [
       "<Figure size 640x480 with 1 Axes>"
      ]
     },
     "metadata": {},
     "output_type": "display_data"
    }
   ],
   "source": [
    "import matplotlib.pyplot as plt\n",
    "\n",
    "def plot_graphs(history, string):\n",
    "  plt.plot(history.history[string])\n",
    "  plt.plot(history.history['val_'+string])\n",
    "  plt.xlabel(\"Epochs\")\n",
    "  plt.ylabel(string)\n",
    "  plt.legend([string, 'val_'+string])\n",
    "  plt.show()\n",
    "  \n",
    "\n",
    "plot_graphs(history, \"accuracy\")\n",
    "plot_graphs(history, \"loss\")\n",
    "plt.show()"
   ]
  },
  {
   "cell_type": "code",
   "execution_count": 92,
   "metadata": {},
   "outputs": [
    {
     "name": "stderr",
     "output_type": "stream",
     "text": [
      "c:\\Users\\mathi\\anaconda3\\lib\\site-packages\\sklearn\\metrics\\_classification.py:1318: UndefinedMetricWarning: Precision and F-score are ill-defined and being set to 0.0 in labels with no predicted samples. Use `zero_division` parameter to control this behavior.\n",
      "  _warn_prf(average, modifier, msg_start, len(result))\n",
      "c:\\Users\\mathi\\anaconda3\\lib\\site-packages\\sklearn\\metrics\\_classification.py:1318: UndefinedMetricWarning: Precision and F-score are ill-defined and being set to 0.0 in labels with no predicted samples. Use `zero_division` parameter to control this behavior.\n",
      "  _warn_prf(average, modifier, msg_start, len(result))\n",
      "c:\\Users\\mathi\\anaconda3\\lib\\site-packages\\sklearn\\metrics\\_classification.py:1318: UndefinedMetricWarning: Precision and F-score are ill-defined and being set to 0.0 in labels with no predicted samples. Use `zero_division` parameter to control this behavior.\n",
      "  _warn_prf(average, modifier, msg_start, len(result))\n"
     ]
    }
   ],
   "source": [
    "y_true = np.array(y_test)\n",
    "\n",
    "label_mapping = {\n",
    "    0: 'nv',\n",
    "    1: 'mel',\n",
    "    2: 'bkl',\n",
    "    3: 'bcc',\n",
    "    4: 'akiec',\n",
    "    5: 'vasc',\n",
    "    6: 'df'\n",
    "}\n",
    "\n",
    "y_pred = model.predict(X_test)\n",
    "y_pred = np.array(list(map(lambda x: np.argmax(x), y_pred)))\n",
    "\n",
    "cm = confusion_matrix(y_true, y_pred)\n",
    "clr = classification_report(y_true, y_pred, target_names=label_mapping.values())"
   ]
  },
  {
   "cell_type": "code",
   "execution_count": 93,
   "metadata": {},
   "outputs": [
    {
     "name": "stderr",
     "output_type": "stream",
     "text": [
      "c:\\Users\\mathi\\anaconda3\\lib\\site-packages\\sklearn\\metrics\\_classification.py:1318: UndefinedMetricWarning: Precision and F-score are ill-defined and being set to 0.0 in labels with no predicted samples. Use `zero_division` parameter to control this behavior.\n",
      "  _warn_prf(average, modifier, msg_start, len(result))\n",
      "c:\\Users\\mathi\\anaconda3\\lib\\site-packages\\sklearn\\metrics\\_classification.py:1318: UndefinedMetricWarning: Precision and F-score are ill-defined and being set to 0.0 in labels with no predicted samples. Use `zero_division` parameter to control this behavior.\n",
      "  _warn_prf(average, modifier, msg_start, len(result))\n",
      "c:\\Users\\mathi\\anaconda3\\lib\\site-packages\\sklearn\\metrics\\_classification.py:1318: UndefinedMetricWarning: Precision and F-score are ill-defined and being set to 0.0 in labels with no predicted samples. Use `zero_division` parameter to control this behavior.\n",
      "  _warn_prf(average, modifier, msg_start, len(result))\n"
     ]
    },
    {
     "name": "stdout",
     "output_type": "stream",
     "text": [
      "              precision    recall  f1-score   support\n",
      "\n",
      "           0       0.30      0.80      0.44        30\n",
      "           1       0.00      0.00      0.00        29\n",
      "           2       0.60      0.33      0.43        27\n",
      "           3       0.37      0.59      0.45        37\n",
      "           4       0.37      0.82      0.51        34\n",
      "           5       1.00      0.02      0.04        44\n",
      "           6       0.00      0.00      0.00        30\n",
      "\n",
      "    accuracy                           0.36       231\n",
      "   macro avg       0.38      0.37      0.27       231\n",
      "weighted avg       0.41      0.36      0.26       231\n",
      "\n"
     ]
    },
    {
     "data": {
      "image/png": "[encoded data removed]",
      "text/plain": [
       "<Figure size 640x480 with 2 Axes>"
      ]
     },
     "metadata": {},
     "output_type": "display_data"
    }
   ],
   "source": [
    "import seaborn as sn\n",
    "\n",
    "y_pred = model.predict(X_test)\n",
    "\n",
    "y_pred = np.argmax(y_pred, axis=1)\n",
    "cr2 = classification_report(y_test, y_pred)\n",
    "cm2 = confusion_matrix(y_test, y_pred)\n",
    "sn.heatmap(cm, cmap='Blues')\n",
    "print(cr2)\n",
    "#print(cm) "
   ]
  },
  {
   "cell_type": "markdown",
   "metadata": {},
   "source": [
    "That's better.. Really "
   ]
  },
  {
   "cell_type": "code",
   "execution_count": null,
   "metadata": {},
   "outputs": [],
   "source": []
  },
  {
   "cell_type": "code",
   "execution_count": null,
   "metadata": {},
   "outputs": [],
   "source": []
  },
  {
   "cell_type": "code",
   "execution_count": null,
   "metadata": {},
   "outputs": [],
   "source": []
  },
  {
   "cell_type": "code",
   "execution_count": null,
   "metadata": {},
   "outputs": [],
   "source": []
  }
 ],
 "metadata": {
  "kernelspec": {
   "display_name": "Python 3.9.13 ('base')",
   "language": "python",
   "name": "python3"
  },
  "language_info": {
   "codemirror_mode": {
    "name": "ipython",
    "version": 3
   },
   "file_extension": ".py",
   "mimetype": "text/x-python",
   "name": "python",
   "nbconvert_exporter": "python",
   "pygments_lexer": "ipython3",
   "version": "3.9.13 (main, Aug 25 2022, 23:51:50) [MSC v.1916 64 bit (AMD64)]"
  },
  "orig_nbformat": 4,
  "vscode": {
   "interpreter": {
    "hash": "a401f25d14e4726c47ec3d51a0ef0f076129e7cc070ddb98f69a4ab74ec023d7"
   }
  }
 },
 "nbformat": 4,
 "nbformat_minor": 2
}
